{
 "cells": [
  {
   "cell_type": "code",
   "execution_count": null,
   "id": "f7defbef",
   "metadata": {},
   "outputs": [],
   "source": [
    "''' The test_output_type test case checks if the returned objects are\n",
    "    of the correct type (matplotlib.Figure and matplotlib.Axes). \n",
    "    The test_output_content test case checks if the expected number of containers exist in the Axes object.'''\n",
    "\n",
    "import unittest\n",
    "\n",
    "class TestSurveyFunction(unittest.TestCase):\n",
    "    def test_output_type(self):\n",
    "        results = dict(zip(questions, list_of_counts))\n",
    "        category_names = ['Trifft nicht zu', 'Trifft teilweise nicht zu',\n",
    "                  'Neutral', 'Trifft teilweise zu', 'Trifft zu']\n",
    "        fig, ax = survey(results, category_names)\n",
    "        self.assertIsInstance(fig, plt.Figure)\n",
    "        self.assertIsInstance(ax, plt.Axes)\n",
    "\n",
    "    def test_output_content(self):\n",
    "        results = dict(zip(questions, list_of_counts))\n",
    "        category_names = ['Trifft nicht zu', 'Trifft teilweise nicht zu',\n",
    "                  'Neutral', 'Trifft teilweise zu', 'Trifft zu']\n",
    "        fig, ax = survey(results, category_names)\n",
    "        self.assertEqual(len(ax.containers), 5)\n",
    "\n",
    "if __name__ == '__main__':\n",
    "    unittest.main(argv=['ignored', '-v'], exit=False)\n"
   ]
  }
 ],
 "metadata": {
  "kernelspec": {
   "display_name": "feedbackers2",
   "language": "python",
   "name": "feedbackers2"
  },
  "language_info": {
   "codemirror_mode": {
    "name": "ipython",
    "version": 3
   },
   "file_extension": ".py",
   "mimetype": "text/x-python",
   "name": "python",
   "nbconvert_exporter": "python",
   "pygments_lexer": "ipython3",
   "version": "3.10.8"
  }
 },
 "nbformat": 4,
 "nbformat_minor": 5
}
